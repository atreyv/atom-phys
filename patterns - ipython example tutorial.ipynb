{
 "cells": [
  {
   "cell_type": "markdown",
   "metadata": {},
   "source": [
    "####Import all necessary libraries. Libpatterns imports libphys as well"
   ]
  },
  {
   "cell_type": "code",
   "execution_count": null,
   "metadata": {
    "collapsed": true
   },
   "outputs": [],
   "source": [
    "%matplotlib inline\n",
    "from libpatternsworkflow import *\n",
    "from __future__ import division\n",
    "mpl.rc('font', size=14)\n",
    "mpl.rcParams['figure.figsize'] = (16.0, 8.0)"
   ]
  },
  {
   "cell_type": "markdown",
   "metadata": {},
   "source": [
    "####Set the directories where the orthogonal and/or parallel polarisation images are. Also set the folder where the logged intensity is"
   ]
  },
  {
   "cell_type": "code",
   "execution_count": null,
   "metadata": {
    "collapsed": false
   },
   "outputs": [],
   "source": [
    "dsave = '/home/pedro/Dropbox/PhD at Strathclyde/Thesis/fig/'\n",
    "dname_ortho = '/home/pedro/LAB/DATA/2014/Dec/PF/05_12_14/pf01/cam448/'\n",
    "dname_parallel = '/home/pedro/LAB/DATA/2014/Dec/PF/05_12_14/pf01/cam113/'\n",
    "iname = '/home/pedro/LAB/DATA/2014/Dec/PF/05_12_14/pf01/'\n",
    "files_ortho = load_files(dname_ortho,\".bmp\")\n",
    "files_parallel = load_files(dname_parallel,\".bmp\")\n",
    "files_int = load_files_prefix(iname, prefix='tpump', sufix='.dat')"
   ]
  },
  {
   "cell_type": "markdown",
   "metadata": {},
   "source": [
    "####Set the parameters with the information about which images contain patterns (fstart and fstop) and the position in filename to extract the relevant x-axis variable (start and stop)"
   ]
  },
  {
   "cell_type": "code",
   "execution_count": null,
   "metadata": {
    "collapsed": false
   },
   "outputs": [],
   "source": [
    "fstart = 20\n",
    "fstop = 880\n",
    "raw_image = 100\n",
    "start = 5\n",
    "stop = 9\n",
    "(files_parallel[600][start:stop])"
   ]
  },
  {
   "cell_type": "markdown",
   "metadata": {},
   "source": [
    "###Set some of experimental parameters.\n",
    "\n",
    "* frac is the fraction of gaussian sigma got from 2D fit to ref, to set the size in FFT"
   ]
  },
  {
   "cell_type": "code",
   "execution_count": null,
   "metadata": {
    "collapsed": true
   },
   "outputs": [],
   "source": [
    "pixel_size = 3.75 # micrometers\n",
    "magnification = 2.\n",
    "# Set the fraction of the sigma from the gaussian fit to a reference. This will set the integrable area for\n",
    "# energy measurements.\n",
    "frac = 1.\n",
    "#half_size = 35\n",
    "symmetry_order = 6\n",
    "azimuthal_profile_smoothness = 20\n",
    "scaling_angle_ortho = 12\n",
    "scaling_angle_parallel = -12\n",
    "compression_y_over_x = 1./0.84\n",
    "# After rotation and compression, some cropping is needed to regain the square boundaries for the near field image\n",
    "image_crop_factor = 0.6\n",
    "# The pixel bin radius from which the polynomial fit should be applied\n",
    "start_pos_for_noise_corr_in_fspace = 30\n",
    "energy_ratio_condition = 0.0\n",
    "# The next parameters affect the power logged in a text file\n",
    "intensity_plateau_n_points = 1000\n",
    "int_smoothness = 300"
   ]
  },
  {
   "cell_type": "markdown",
   "metadata": {},
   "source": [
    "###Use a reference image to locate the centre of pump/probe for ortho/parallel pol"
   ]
  },
  {
   "cell_type": "markdown",
   "metadata": {},
   "source": [
    "For the orthogonal polarisation; notice that a pure reference is a flat plane intensity profile for linear polarisation at the Brewster angle, so a typical pattern is selected"
   ]
  },
  {
   "cell_type": "code",
   "execution_count": null,
   "metadata": {
    "collapsed": false
   },
   "outputs": [],
   "source": [
    "fft_size_ortho, param_ortho, refft_ortho = locate_roi_from_ref(dname_ortho, files_ortho, scaling_angle_ortho,\n",
    "                                                               raw_image, frac, compression_y_over_x,\n",
    "                                                               image_crop_factor)"
   ]
  },
  {
   "cell_type": "markdown",
   "metadata": {},
   "source": [
    "For the parallel polarisation; a pure reference should be used"
   ]
  },
  {
   "cell_type": "code",
   "execution_count": null,
   "metadata": {
    "collapsed": false
   },
   "outputs": [],
   "source": [
    "fft_size_parallel, param_parallel, refft_parallel = locate_roi_from_ref(dname_parallel, files_parallel,\n",
    "                                                                        scaling_angle_parallel, raw_image, frac,\n",
    "                                                                        compression_y_over_x, image_crop_factor)"
   ]
  },
  {
   "cell_type": "markdown",
   "metadata": {},
   "source": [
    "One single fft_size should used for proper transmission calculations. The smallest size between parallel and orthogonal is typical chosen, although is as good metrics and any other."
   ]
  },
  {
   "cell_type": "code",
   "execution_count": null,
   "metadata": {
    "collapsed": false
   },
   "outputs": [],
   "source": [
    "param_ortho[3:5] = param_parallel[3:5]\n",
    "fft_size = fft_size_parallel\n",
    "\n",
    "#param_parallel[3:5] = param_ortho[3:5]\n",
    "#fft_size = fft_size_ortho\n",
    "fft_size,param_ortho,param_parallel"
   ]
  },
  {
   "cell_type": "markdown",
   "metadata": {},
   "source": [
    "Now pure references should be measured for proper total power sent through the atomic cloud and for correct transmission calculations. Typically this will involve recalculating the fft of a pure reference from the orthogonal pol when the pump pol is linear."
   ]
  },
  {
   "cell_type": "code",
   "execution_count": null,
   "metadata": {
    "collapsed": false,
    "scrolled": true
   },
   "outputs": [],
   "source": [
    "def calibrate_intensity(i):\n",
    "    ref_ortho = read_file_to_ndarray(dname_ortho+files_ortho[i])\n",
    "    ref_ortho = scale_image(ref_ortho,scaling_angle_ortho,compression_y_over_x,interpolation_value=0)\n",
    "    ref_ortho = image_crop(ref_ortho,image_crop_factor)\n",
    "    ref_ortho = prepare_for_fft_crop(ref_ortho,fft_size)\n",
    "    ref_parallel = read_file_to_ndarray(dname_parallel+files_parallel[i])\n",
    "    ref_parallel = scale_image(ref_parallel,scaling_angle_parallel,compression_y_over_x,interpolation_value=0)\n",
    "    ref_parallel = image_crop(ref_parallel,image_crop_factor)\n",
    "    ref_parallel = prepare_for_fft_crop(ref_parallel,fft_size)\n",
    "    P0 = ref_parallel.sum() + ref_ortho.sum()\n",
    "    return P0\n",
    "\n",
    "P0_ref_ccd = np.array([calibrate_intensity(raw_image)])\n",
    "for i in xrange(raw_image+1,raw_image+20):\n",
    "    P0_ref_ccd = np.append(P0_ref_ccd, calibrate_intensity(i))\n",
    "    \n",
    "I0_ref_pd = get_pump_intensity_profile_from_txt(iname+'ref.dat',0.08,intensity_plateau_n_points,\n",
    "                                                 smoothness_points=int_smoothness,plot_all=True,\n",
    "                                                 check_plot=True, plot_find_peaks=True,averaging=False)\n",
    "\n",
    "I0_pump_cal = np.average(I0_ref_pd / P0_ref_ccd)\n",
    "I0_pump = np.average(P0_ref_ccd * I0_pump_cal)\n",
    "\n",
    "I0_pump_pd = get_pump_intensity_profile_from_txt(iname+files_int[0],0.08,intensity_plateau_n_points,\n",
    "                                                 int_smoothness,True,True,True,averaging=False)\n",
    "#I0_probe_pd = get_probe_intensity_profile_from_txt(iname+files_int[0],0.08,intensity_plateau_n_points,\n",
    "#                                                   int_smoothness,True,True,True)\n",
    "for i in files_int[1:]:\n",
    "    I0_pump_pd = np.append(I0_pump_pd,get_pump_intensity_profile_from_txt(iname+i,0.08,\n",
    "                                                                          intensity_plateau_n_points,\n",
    "                                                                          int_smoothness,True,True,False,\n",
    "                                                                          averaging=False))\n",
    "#    I0_probe_pd = np.append(I0_probe_pd,get_probe_intensity_profile_from_txt(iname+i,0.08,\n",
    "#                                                                             intensity_plateau_n_points,\n",
    "#                                                                             int_smoothness,True,True,False))"
   ]
  },
  {
   "cell_type": "code",
   "execution_count": null,
   "metadata": {
    "collapsed": false
   },
   "outputs": [],
   "source": [
    "plt.figure(figsize=(12,8))\n",
    "plt.plot((P0_ref_ccd-np.amin(P0_ref_ccd))/(np.amax(P0_ref_ccd)-np.amin(P0_ref_ccd)) * 100, marker='o', linewidth=1)\n",
    "plt.plot((I0_ref_pd-np.amin(I0_ref_pd))/(np.amax(I0_ref_pd)-np.amin(I0_ref_pd)) * 100,\n",
    "         marker='x', linewidth=1)\n",
    "plt.xlabel('acquisition number')\n",
    "plt.ylabel('% $\\Delta$')\n",
    "#plt.savefig(iname+'intensity_green-image_power_blue-relation.pdf')"
   ]
  },
  {
   "cell_type": "markdown",
   "metadata": {},
   "source": [
    "###Call the main function that will collect all data from each image and append it to the created container\n",
    "\n",
    "The returned tuple is composed in order by:\n",
    "\n",
    "0. * t represents the x-axis coordinate relevant from the present analysed data: might be time, mirror distance, etc.\n",
    "1. * Lambda1 is the polarisation1 lengthscale.\n",
    "2. * trans_pow1 is its transmitted power, should be divided by total power\n",
    "3. * ring1_area is its selected peak order are contained in 2*sigma\n",
    "4. * ring1_amplitude is its slected peak amplitude\n",
    "5. * ring1_width is the 2*sigma width\n",
    "6. * Lambda2 is the polarisation2 lengthscale.\n",
    "7. * trans_pow2 is its transmitted power, should be divided by total power\n",
    "8. * ring2_area\n",
    "9. * ring2_amplitude\n",
    "10. * ring2_width\n",
    "11. * symmetry_order_measured1 is the counted number of sideband peaks\n",
    "12. * azimuthal_peak1 is the azimuthal angle of the first peak from quadrant 1\n",
    "13. * count1 is the number of voronoi regions with the counted symmetry order\n",
    "14. * position_x1 is the c.o.m. in the x-coordinate of the voronoi point\n",
    "15. * position_y1 is the c.o.m. in the y-coordinate of the voronoi point\n",
    "16. * side_ave1 is the average of all sides of all voronoi regions with the highest counted symmetry order\n",
    "17. * side_std1 is standard deviation of all sides of all voronoi regions with the highest counted symmetry order\n",
    "\n",
    "voronoi metrics contains the relevant data for checking translational symmetry breaking, distinguish positive from negative hexagons"
   ]
  },
  {
   "cell_type": "markdown",
   "metadata": {},
   "source": [
    "Write the main function for looping. It might be used with joblib parallelisation. In this case the plots don't show in the end, although the call for plot wastes processor time."
   ]
  },
  {
   "cell_type": "markdown",
   "metadata": {
    "collapsed": false
   },
   "source": [
    "def main():\n",
    "    data = [get_data_metrics(600,\n",
    "                             start,\n",
    "                             stop,\n",
    "                             pixel_size,\n",
    "                             magnification,\n",
    "                             raw_image,\n",
    "                             frac,\n",
    "                             symmetry_order,\n",
    "                             azimuthal_profile_smoothness,\n",
    "                             compression_y_over_x,\n",
    "                             image_crop_factor,                    \n",
    "                             start_pos_for_noise_corr_in_fspace,\n",
    "                             energy_ratio_condition,\n",
    "                             intensity_plateau_n_points,\n",
    "                             int_smoothness,\n",
    "                             fft_size,\n",
    "                             param_ortho, scaling_angle_ortho,\n",
    "                             dname_ortho, files_ortho, I0_pump_cal, True, False, True, True,\n",
    "                             param_parallel, scaling_angle_parallel, dname_parallel, files_parallel)]\n",
    "    for i in xrange(600+1,640):\n",
    "        data = np.append(data, [get_data_metrics(i,\n",
    "                                                 start,\n",
    "                                                 stop,\n",
    "                                                 pixel_size,\n",
    "                                                 magnification,\n",
    "                                                 raw_image,\n",
    "                                                 frac,\n",
    "                                                 symmetry_order,\n",
    "                                                 azimuthal_profile_smoothness,\n",
    "                                                 compression_y_over_x,\n",
    "                                                 image_crop_factor,                    \n",
    "                                                 start_pos_for_noise_corr_in_fspace,\n",
    "                                                 energy_ratio_condition,\n",
    "                                                 intensity_plateau_n_points,\n",
    "                                                 int_smoothness,\n",
    "                                                 fft_size,\n",
    "                                                 param_ortho,\n",
    "                                                 scaling_angle_ortho, dname_ortho, files_ortho, I0_pump_cal,\n",
    "                                                 True, False, True, True, param_parallel,\n",
    "                                                 scaling_angle_parallel,\n",
    "                                                 dname_parallel, files_parallel)],axis=0)\n",
    "    return data\n",
    "%time data = main()"
   ]
  },
  {
   "cell_type": "code",
   "execution_count": null,
   "metadata": {
    "collapsed": false
   },
   "outputs": [],
   "source": [
    "%time data = np.asarray(Parallel(n_jobs=4)(delayed(get_data_metrics)(i,\\\n",
    "                                                                     start,\\\n",
    "                                                                     stop,\\\n",
    "                                                                     pixel_size,\\\n",
    "                                                                     magnification,\\\n",
    "                                                                     raw_image,\\\n",
    "                                                                     frac,\\\n",
    "                                                                     symmetry_order,\\\n",
    "                                                                     azimuthal_profile_smoothness,\\\n",
    "                                                                     compression_y_over_x,\\\n",
    "                                                                     image_crop_factor,\\\n",
    "                                                                     start_pos_for_noise_corr_in_fspace,\\\n",
    "                                                                     energy_ratio_condition,\\\n",
    "                                                                     intensity_plateau_n_points,\\\n",
    "                                                                     int_smoothness,\\\n",
    "                                                                     fft_size,\\\n",
    "                                                                     param_ortho,\\\n",
    "                                                                     scaling_angle_ortho, dname_ortho,\\\n",
    "                                                                     files_ortho,\\\n",
    "                                                                     I0_pump_cal, False, False, False, False,\\\n",
    "                                                                     param_parallel,\\\n",
    "                                                                     scaling_angle_parallel, dname_parallel,\\\n",
    "                                                                     files_parallel)\\\n",
    "                                           for i in range(fstart,fstop)))"
   ]
  },
  {
   "cell_type": "code",
   "execution_count": null,
   "metadata": {
    "collapsed": false
   },
   "outputs": [],
   "source": [
    "pump = I0_pump_pd\n",
    "#probe = I0_probe_pd[20:]\n",
    "plt.plot(pump)\n",
    "#plt.plot(probe)\n",
    "print \"Ipump = %.2f mW/cm2 with std = %.2f mW/cm2\"%(np.average(pump), np.std(pump))\n",
    "#print \"Iprobe = %.2f mW/cm2 with std = %.2f mW/cm2\"%(np.average(probe), np.std(probe))\n",
    "print I0_pump_pd.shape"
   ]
  },
  {
   "cell_type": "markdown",
   "metadata": {},
   "source": [
    "Correct desired array for invalid metrics..."
   ]
  },
  {
   "cell_type": "markdown",
   "metadata": {
    "collapsed": true
   },
   "source": [
    "patched_data9 = np.copy(data[:,9])\n",
    "for i in xrange(3):\n",
    "    element = np.argmax(patched_data9)\n",
    "    patched_data9[element] = patched_data9[element-1]"
   ]
  },
  {
   "cell_type": "code",
   "execution_count": null,
   "metadata": {
    "collapsed": false
   },
   "outputs": [],
   "source": [
    "rejected_truth = data[:,0] != -1\n",
    "accept_interval_in_std = 2\n",
    "truth_int = rejected_truth#truth_intensities(I0_pump_pd,imin=0,imax=300)\n",
    "\n",
    "#t_value, total_int_mean, total_int_errors,\\\n",
    "#total_int_count = average_std_data(data[:,0], I0_pump_pd, accept_interval_in_std, truth_int)\n",
    "\n",
    "t_value, value1_mean_ortho, value1_errors_ortho,\\\n",
    "count1_ortho = average_std_data(data[:,0], data[:,2], accept_interval_in_std, truth_int)\n",
    "\n",
    "t_value, value2_mean_ortho, value2_errors_ortho,\\\n",
    "count2_ortho = average_std_data(data[:,0], data[:,4], accept_interval_in_std, truth_int)\n",
    "\n",
    "t_value, value1_mean_parallel, value1_errors_parallel,\\\n",
    "count1_parallel = average_std_data(data[:,0], data[:,7], accept_interval_in_std, truth_int)\n",
    "\n",
    "t_value, value2_mean_parallel, value2_errors_parallel,\\\n",
    "count2_parallel = average_std_data(data[:,0], data[:,9], accept_interval_in_std, truth_int)\n",
    "\n",
    "value2_mean_ortho = value2_mean_ortho / ((value1_mean_ortho+value1_mean_parallel) / I0_pump_cal)\n",
    "value2_errors_ortho = value2_errors_ortho / ((value1_mean_ortho+value1_mean_parallel) / I0_pump_cal)\n",
    "value2_mean_parallel = value2_mean_parallel / ((value1_mean_ortho+value1_mean_parallel) / I0_pump_cal)\n",
    "value2_errors_parallel = value2_errors_parallel / ((value1_mean_ortho+value1_mean_parallel) / I0_pump_cal)"
   ]
  },
  {
   "cell_type": "code",
   "execution_count": null,
   "metadata": {
    "collapsed": false
   },
   "outputs": [],
   "source": [
    "count1_ortho, count2_ortho, count1_parallel, count2_parallel"
   ]
  },
  {
   "cell_type": "code",
   "execution_count": null,
   "metadata": {
    "collapsed": false,
    "scrolled": true
   },
   "outputs": [],
   "source": [
    "fig = plt.figure(figsize=(8,6))\n",
    "plot1 = fig.add_subplot(111)\n",
    "plot1.plot(t_value,value1_mean_ortho,linewidth=0,marker='o')\n",
    "plot1.errorbar(t_value,value1_mean_ortho,yerr=value1_errors_ortho,ls='none')\n",
    "plot1.set_xlabel(r't ($\\mathrm{\\mu s}$)')\n",
    "#plot1.set_ylabel(r'$\\Lambda$ ($\\mathrm{\\mu m}$)')\n",
    "plot1.set_ylabel(r'$I_{trans}$ ($mW/cm^2$)')\n",
    "plot1.set_xlim(xmin=0)#,xmax=250)\n",
    "plot1.set_ylim(ymin=0)\n",
    "plt.savefig(dsave+'decay-02-12_12_14-trans-total.pdf')"
   ]
  },
  {
   "cell_type": "code",
   "execution_count": null,
   "metadata": {
    "collapsed": false,
    "scrolled": false
   },
   "outputs": [],
   "source": [
    "fig = plt.figure(figsize=(8,6))\n",
    "plot2 = fig.add_subplot(111)\n",
    "plot2.plot(t_value,value2_mean_ortho,linewidth=0,marker='o')\n",
    "plot2.errorbar(t_value,value2_mean_ortho,yerr=value2_errors_ortho,ls='none')\n",
    "plot2.set_xlabel(r't ($\\mathrm{\\mu s}$)')\n",
    "plot2.set_ylabel(r'$E_{q_1}$/$E_{0}$')\n",
    "plot2.set_xlim(xmin=0)#,xmax=250)\n",
    "plot2.set_ylim(ymin=0)#,ymax=1)"
   ]
  },
  {
   "cell_type": "code",
   "execution_count": null,
   "metadata": {
    "collapsed": false
   },
   "outputs": [],
   "source": [
    "fig = plt.figure(figsize=(8,6))\n",
    "plot3 = fig.add_subplot(111)\n",
    "plot3.plot(t_value,value1_mean_parallel,linewidth=0,marker='o')\n",
    "plot3.errorbar(t_value,value1_mean_parallel,yerr=value1_errors_parallel,ls='none')\n",
    "#plot3.plot(t_value,total_int_mean,linewidth=0,marker='d')\n",
    "#plot3.errorbar(t_value,total_int_mean,yerr=total_int_errors,ls='none')\n",
    "plot3.set_xlabel(r't ($\\mathrm{\\mu s}$)')\n",
    "#plot3.set_ylabel(r'$\\Lambda$ ($\\mathrm{\\mu m}$)')\n",
    "plot3.set_ylabel(r'$I_{trans}$ ($mW/cm^2$)')\n",
    "plot3.set_xlim(xmin=0)#,xmax=250)\n",
    "plot3.set_ylim(ymin=0)"
   ]
  },
  {
   "cell_type": "code",
   "execution_count": null,
   "metadata": {
    "collapsed": false,
    "scrolled": false
   },
   "outputs": [],
   "source": [
    "fig = plt.figure(figsize=(8,6))\n",
    "plot4 = fig.add_subplot(111)\n",
    "plot4.plot(t_value,value2_mean_parallel,linewidth=0,marker='o')\n",
    "plot4.errorbar(t_value,value2_mean_parallel,yerr=value2_errors_parallel,ls='none')\n",
    "#plot4.plot(t_value,intense/np.average(intense))\n",
    "plot4.set_xlabel(r't ($\\mathrm{\\mu s}$)')\n",
    "plot4.set_ylabel(r'$E_{q_1}$/$E_{0}$')\n",
    "plot4.set_xlim(xmin=0)#,xmax=250)\n",
    "plot4.set_ylim(ymin=0)#,ymax=1)\n",
    "#fig.savefig(dname+'ortho-postmirror-pol.pdf')"
   ]
  },
  {
   "cell_type": "code",
   "execution_count": null,
   "metadata": {
    "collapsed": false,
    "scrolled": false
   },
   "outputs": [],
   "source": [
    "bincount = np.bincount(np.round(data[:,12][rejected_truth]).astype(np.int64))\n",
    "bincount.argmax(), bincount"
   ]
  },
  {
   "cell_type": "code",
   "execution_count": null,
   "metadata": {
    "collapsed": false,
    "scrolled": false
   },
   "outputs": [],
   "source": [
    "sym = np.bincount(np.round(data[:,11][rejected_truth]).astype(np.int64))\n",
    "sym_truth = data[:,11] == sym.argmax()\n",
    "sym.argmax(), sym"
   ]
  },
  {
   "cell_type": "code",
   "execution_count": null,
   "metadata": {
    "collapsed": false
   },
   "outputs": [],
   "source": [
    "rot_truth = rejected_truth * sym_truth\n",
    "rotational = data[:,12][rot_truth]\n",
    "n, bins, patches = plt.hist(rotational,70,range=(-5,65),histtype='bar')\n",
    "plt.xlabel('azimuthal angle (deg)')\n",
    "plt.ylabel('counts')"
   ]
  },
  {
   "cell_type": "code",
   "execution_count": null,
   "metadata": {
    "collapsed": false
   },
   "outputs": [],
   "source": [
    "azi_truth1 = data[:,12] >= bincount.argmax() - 1.5\n",
    "azi_truth2 = data[:,12] < bincount.argmax() + 1.5\n",
    "trans_truth = rejected_truth * sym_truth * azi_truth1 * azi_truth2\n",
    "\n",
    "first_pattern = np.sqrt(data[:,14][trans_truth][0]**2 + data[:,15][trans_truth][0]**2)\n",
    "translational = (np.sqrt(data[:,14][trans_truth]**2 + data[:,15][trans_truth]**2) - first_pattern)\\\n",
    "                * pixel_size/magnification\n",
    "\n",
    "fig, ax1 = plt.subplots()\n",
    "ax1.set_ylabel('angle (deg)')\n",
    "ax1.set_ylim(ymin=0)#,ymax=60)\n",
    "ax1.set_xlabel('image number')\n",
    "for tl in ax1.get_yticklabels():\n",
    "    tl.set_color('r')\n",
    "ax2 = ax1.twinx()\n",
    "ax2.set_ylabel('absolute translation ($\\mathrm{\\mu m}$)')\n",
    "for tl in ax2.get_yticklabels():\n",
    "    tl.set_color('b')\n",
    "ax1.plot(data[:,12][trans_truth],'r--')\n",
    "ax2.plot(translational, 'b')"
   ]
  },
  {
   "cell_type": "code",
   "execution_count": null,
   "metadata": {
    "collapsed": false
   },
   "outputs": [],
   "source": [
    "n, bins, patches = plt.hist(translational,80,range=(-40,40),histtype='bar')\n",
    "plt.xlabel('absolute translation ($\\mathrm{\\mu m}$)')\n",
    "plt.ylabel('counts')"
   ]
  }
 ],
 "metadata": {
  "kernelspec": {
   "display_name": "Python 2",
   "language": "python",
   "name": "python2"
  },
  "language_info": {
   "codemirror_mode": {
    "name": "ipython",
    "version": 2
   },
   "file_extension": ".py",
   "mimetype": "text/x-python",
   "name": "python",
   "nbconvert_exporter": "python",
   "pygments_lexer": "ipython2",
   "version": "2.7.6"
  }
 },
 "nbformat": 4,
 "nbformat_minor": 0
}
